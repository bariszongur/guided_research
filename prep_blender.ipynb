{
 "cells": [
  {
   "cell_type": "markdown",
   "id": "99bb0657",
   "metadata": {},
   "source": [
    "# Notebook for preprocessing the blender images for training."
   ]
  },
  {
   "cell_type": "code",
   "execution_count": null,
   "outputs": [],
   "source": [
    "import os\n",
    "import sys\n",
    "sys.path.append(r\"C:\\Users\\49174\\anaconda3\\envs\\gr2\\Lib\\site-packages\")\n",
    "from models.mic_utils import *\n",
    "from PIL import Image\n"
   ],
   "metadata": {
    "collapsed": false,
    "pycharm": {
     "name": "#%%\n"
    }
   }
  },
  {
   "cell_type": "markdown",
   "source": [
    "#### datasave: Directory to save preprocessed images\n",
    "#### datasave_l: Directory to save preprocessed labels\n",
    "#### dir_images: Directory to riginal images\n",
    "#### dir_label_r: Directory to first set of labels\n",
    "#### dir_label_tr: Directroy to second set of labels\n",
    "\n"
   ],
   "metadata": {
    "collapsed": false,
    "pycharm": {
     "name": "#%% md\n"
    }
   }
  },
  {
   "cell_type": "code",
   "execution_count": null,
   "outputs": [],
   "source": [
    "datasave = \"./examples/train/images/\"\n",
    "datasave_l = \"./examples/train/labels/\"\n",
    "dir_images = \"./blenderconfig/renders/real/\"\n",
    "dir_label_r = \"./blenderconfig/renders/labelAll/\"\n",
    "dir_label_tr = \"./blenderconfig/renders/label1/\"\n",
    "\n"
   ],
   "metadata": {
    "collapsed": false,
    "pycharm": {
     "name": "#%%\n"
    }
   }
  },
  {
   "cell_type": "code",
   "execution_count": null,
   "outputs": [],
   "source": [
    "images = os.listdir(dir_images)\n",
    "images.sort()\n",
    "labels_r = os.listdir(dir_label_r)\n",
    "labels_r.sort()\n",
    "labels_tr = os.listdir(dir_label_tr)\n",
    "labels_tr.sort()\n",
    "\n",
    "all_images = []\n",
    "t = False\n",
    "tm = 0"
   ],
   "metadata": {
    "collapsed": false,
    "pycharm": {
     "name": "#%%\n"
    }
   }
  },
  {
   "cell_type": "code",
   "execution_count": null,
   "outputs": [],
   "source": [
    "for k in range (len(labels_tr)):\n",
    "    image = cv2.imread(dir_images + images[k])\n",
    "    label_r = np.array(cv2.imread(dir_label_r + labels_r[k]))\n",
    "    label_tr = np.array(cv2.imread(dir_label_tr + labels_tr[k]))\n",
    "    label_c = label_r + label_tr\n",
    "    label_c[label_c>0] = 1.\n",
    "    for i in range(5):\n",
    "        temp_row = []\n",
    "        for j in range(6):\n",
    "            image_0 = np.array(image)[i * 320:(i + 1) * 320, j * 320:(j + 1) * 320, :]\n",
    "            label_0 = np.array(label_c)[i * 320:(i + 1) * 320, j * 320:(j + 1) * 320, 0]\n",
    "            if np.mean(image_0)<240 or np.random.rand()<=0.3:\n",
    "                im = Image.fromarray(image_0)\n",
    "                im.save(datasave + str(tm).zfill(5) + \".png\" )\n",
    "\n",
    "                lb = Image.fromarray(label_0)\n",
    "                lb.save(datasave_l + str(tm).zfill(5) + \"_l_\" + \".png\" )\n",
    "                tm = tm+1"
   ],
   "metadata": {
    "collapsed": false,
    "pycharm": {
     "name": "#%%\n"
    }
   }
  },
  {
   "cell_type": "code",
   "execution_count": null,
   "outputs": [],
   "source": [],
   "metadata": {
    "collapsed": false,
    "pycharm": {
     "name": "#%%\n"
    }
   }
  },
  {
   "cell_type": "code",
   "execution_count": null,
   "id": "95738031",
   "metadata": {},
   "outputs": [],
   "source": []
  }
 ],
 "metadata": {
  "kernelspec": {
   "display_name": "Python 3 (ipykernel)",
   "language": "python",
   "name": "python3"
  },
  "language_info": {
   "codemirror_mode": {
    "name": "ipython",
    "version": 3
   },
   "file_extension": ".py",
   "mimetype": "text/x-python",
   "name": "python",
   "nbconvert_exporter": "python",
   "pygments_lexer": "ipython3",
   "version": "3.9.12"
  }
 },
 "nbformat": 4,
 "nbformat_minor": 5
}